{
 "cells": [
  {
   "cell_type": "code",
   "execution_count": 22,
   "id": "c9650412",
   "metadata": {
    "scrolled": true
   },
   "outputs": [
    {
     "name": "stdout",
     "output_type": "stream",
     "text": [
      "huggingface/tokenizers: The current process just got forked, after parallelism has already been used. Disabling parallelism to avoid deadlocks...\n",
      "To disable this warning, you can either:\n",
      "\t- Avoid using `tokenizers` before the fork if possible\n",
      "\t- Explicitly set the environment variable TOKENIZERS_PARALLELISM=(true | false)\n",
      "Requirement already satisfied: keras in /home/maciektr/miniconda3/envs/tf_gpu/lib/python3.9/site-packages (2.4.3)\n",
      "Requirement already satisfied: scipy>=0.14 in /home/maciektr/miniconda3/envs/tf_gpu/lib/python3.9/site-packages (from keras) (1.9.3)\n",
      "Requirement already satisfied: pyyaml in /home/maciektr/miniconda3/envs/tf_gpu/lib/python3.9/site-packages (from keras) (6.0)\n",
      "Requirement already satisfied: numpy>=1.9.1 in /home/maciektr/miniconda3/envs/tf_gpu/lib/python3.9/site-packages (from keras) (1.23.4)\n",
      "Requirement already satisfied: h5py in /home/maciektr/miniconda3/envs/tf_gpu/lib/python3.9/site-packages (from keras) (2.10.0)\n",
      "Requirement already satisfied: six in /home/maciektr/miniconda3/envs/tf_gpu/lib/python3.9/site-packages (from h5py->keras) (1.16.0)\n"
     ]
    }
   ],
   "source": [
    "# ! pip install fasttext\n",
    "# ! pip install sacremoses evaluate\n",
    "! pip install keras"
   ]
  },
  {
   "cell_type": "code",
   "execution_count": 23,
   "id": "2042a721",
   "metadata": {},
   "outputs": [],
   "source": [
    "from datasets import load_dataset\n",
    "from transformers import AutoTokenizer\n",
    "import evaluate\n",
    "import numpy as np\n",
    "from transformers import TFAutoModelForSequenceClassification\n",
    "from transformers import DataCollatorWithPadding\n",
    "from transformers import create_optimizer\n",
    "import keras\n",
    "import os \n",
    "import fasttext\n",
    "from transformers.keras_callbacks import KerasMetricCallback\n"
   ]
  },
  {
   "cell_type": "code",
   "execution_count": 24,
   "id": "361cddbd",
   "metadata": {},
   "outputs": [
    {
     "name": "stdout",
     "output_type": "stream",
     "text": [
      "2.4.1\n"
     ]
    },
    {
     "data": {
      "text/plain": [
       "[PhysicalDevice(name='/physical_device:GPU:0', device_type='GPU')]"
      ]
     },
     "execution_count": 24,
     "metadata": {},
     "output_type": "execute_result"
    }
   ],
   "source": [
    "import tensorflow as tf\n",
    "print(tf.__version__)\n",
    "tf.config.list_physical_devices('GPU')"
   ]
  },
  {
   "cell_type": "code",
   "execution_count": 81,
   "id": "ee6ffde6",
   "metadata": {},
   "outputs": [
    {
     "name": "stderr",
     "output_type": "stream",
     "text": [
      "Found cached dataset poleval2019_cyberbullying (/home/maciektr/.cache/huggingface/datasets/poleval2019_cyberbullying/task01/1.0.0/ce6060c56dae43c469bab309a7573b86299b0bcc2484e85cfe0ae70b5f770450)\n"
     ]
    },
    {
     "data": {
      "application/vnd.jupyter.widget-view+json": {
       "model_id": "6014f28a0ed943d7801e1556fa0e7189",
       "version_major": 2,
       "version_minor": 0
      },
      "text/plain": [
       "  0%|          | 0/2 [00:00<?, ?it/s]"
      ]
     },
     "metadata": {},
     "output_type": "display_data"
    },
    {
     "name": "stderr",
     "output_type": "stream",
     "text": [
      "Found cached dataset poleval2019_cyberbullying (/home/maciektr/.cache/huggingface/datasets/poleval2019_cyberbullying/task02/1.0.0/ce6060c56dae43c469bab309a7573b86299b0bcc2484e85cfe0ae70b5f770450)\n"
     ]
    },
    {
     "data": {
      "application/vnd.jupyter.widget-view+json": {
       "model_id": "f4b0adb052df4fe69efb7b9533fbeb90",
       "version_major": 2,
       "version_minor": 0
      },
      "text/plain": [
       "  0%|          | 0/2 [00:00<?, ?it/s]"
      ]
     },
     "metadata": {},
     "output_type": "display_data"
    }
   ],
   "source": [
    "dataset1 = load_dataset('poleval2019_cyberbullying', 'task01')\n",
    "dataset2 = load_dataset('poleval2019_cyberbullying', 'task02')"
   ]
  },
  {
   "cell_type": "markdown",
   "id": "fa15a9a6",
   "metadata": {},
   "source": [
    "### Bayesian classifier with TF * IDF weighting."
   ]
  },
  {
   "cell_type": "code",
   "execution_count": 102,
   "id": "3f1b8b88",
   "metadata": {},
   "outputs": [],
   "source": []
  },
  {
   "cell_type": "code",
   "execution_count": 103,
   "id": "2f374ffa",
   "metadata": {},
   "outputs": [],
   "source": [
    "tf_vectorizer = CountVectorizer() # or term frequency"
   ]
  },
  {
   "cell_type": "code",
   "execution_count": 104,
   "id": "49348eb0",
   "metadata": {},
   "outputs": [],
   "source": [
    "data_dict = dataset1['train'].to_dict()\n",
    "data_test_dict = dataset1['test'].to_dict()"
   ]
  },
  {
   "cell_type": "code",
   "execution_count": 105,
   "id": "0a9aa98b",
   "metadata": {},
   "outputs": [],
   "source": [
    "X_train_tf = tf_vectorizer.fit_transform(data_dict['text'])\n",
    "X_test_tf = tf_vectorizer.transform(data_test_dict['text'])"
   ]
  },
  {
   "cell_type": "code",
   "execution_count": 106,
   "id": "17dae910",
   "metadata": {},
   "outputs": [
    {
     "data": {
      "text/html": [
       "<style>#sk-container-id-2 {color: black;background-color: white;}#sk-container-id-2 pre{padding: 0;}#sk-container-id-2 div.sk-toggleable {background-color: white;}#sk-container-id-2 label.sk-toggleable__label {cursor: pointer;display: block;width: 100%;margin-bottom: 0;padding: 0.3em;box-sizing: border-box;text-align: center;}#sk-container-id-2 label.sk-toggleable__label-arrow:before {content: \"▸\";float: left;margin-right: 0.25em;color: #696969;}#sk-container-id-2 label.sk-toggleable__label-arrow:hover:before {color: black;}#sk-container-id-2 div.sk-estimator:hover label.sk-toggleable__label-arrow:before {color: black;}#sk-container-id-2 div.sk-toggleable__content {max-height: 0;max-width: 0;overflow: hidden;text-align: left;background-color: #f0f8ff;}#sk-container-id-2 div.sk-toggleable__content pre {margin: 0.2em;color: black;border-radius: 0.25em;background-color: #f0f8ff;}#sk-container-id-2 input.sk-toggleable__control:checked~div.sk-toggleable__content {max-height: 200px;max-width: 100%;overflow: auto;}#sk-container-id-2 input.sk-toggleable__control:checked~label.sk-toggleable__label-arrow:before {content: \"▾\";}#sk-container-id-2 div.sk-estimator input.sk-toggleable__control:checked~label.sk-toggleable__label {background-color: #d4ebff;}#sk-container-id-2 div.sk-label input.sk-toggleable__control:checked~label.sk-toggleable__label {background-color: #d4ebff;}#sk-container-id-2 input.sk-hidden--visually {border: 0;clip: rect(1px 1px 1px 1px);clip: rect(1px, 1px, 1px, 1px);height: 1px;margin: -1px;overflow: hidden;padding: 0;position: absolute;width: 1px;}#sk-container-id-2 div.sk-estimator {font-family: monospace;background-color: #f0f8ff;border: 1px dotted black;border-radius: 0.25em;box-sizing: border-box;margin-bottom: 0.5em;}#sk-container-id-2 div.sk-estimator:hover {background-color: #d4ebff;}#sk-container-id-2 div.sk-parallel-item::after {content: \"\";width: 100%;border-bottom: 1px solid gray;flex-grow: 1;}#sk-container-id-2 div.sk-label:hover label.sk-toggleable__label {background-color: #d4ebff;}#sk-container-id-2 div.sk-serial::before {content: \"\";position: absolute;border-left: 1px solid gray;box-sizing: border-box;top: 0;bottom: 0;left: 50%;z-index: 0;}#sk-container-id-2 div.sk-serial {display: flex;flex-direction: column;align-items: center;background-color: white;padding-right: 0.2em;padding-left: 0.2em;position: relative;}#sk-container-id-2 div.sk-item {position: relative;z-index: 1;}#sk-container-id-2 div.sk-parallel {display: flex;align-items: stretch;justify-content: center;background-color: white;position: relative;}#sk-container-id-2 div.sk-item::before, #sk-container-id-2 div.sk-parallel-item::before {content: \"\";position: absolute;border-left: 1px solid gray;box-sizing: border-box;top: 0;bottom: 0;left: 50%;z-index: -1;}#sk-container-id-2 div.sk-parallel-item {display: flex;flex-direction: column;z-index: 1;position: relative;background-color: white;}#sk-container-id-2 div.sk-parallel-item:first-child::after {align-self: flex-end;width: 50%;}#sk-container-id-2 div.sk-parallel-item:last-child::after {align-self: flex-start;width: 50%;}#sk-container-id-2 div.sk-parallel-item:only-child::after {width: 0;}#sk-container-id-2 div.sk-dashed-wrapped {border: 1px dashed gray;margin: 0 0.4em 0.5em 0.4em;box-sizing: border-box;padding-bottom: 0.4em;background-color: white;}#sk-container-id-2 div.sk-label label {font-family: monospace;font-weight: bold;display: inline-block;line-height: 1.2em;}#sk-container-id-2 div.sk-label-container {text-align: center;}#sk-container-id-2 div.sk-container {/* jupyter's `normalize.less` sets `[hidden] { display: none; }` but bootstrap.min.css set `[hidden] { display: none !important; }` so we also need the `!important` here to be able to override the default hidden behavior on the sphinx rendered scikit-learn.org. See: https://github.com/scikit-learn/scikit-learn/issues/21755 */display: inline-block !important;position: relative;}#sk-container-id-2 div.sk-text-repr-fallback {display: none;}</style><div id=\"sk-container-id-2\" class=\"sk-top-container\"><div class=\"sk-text-repr-fallback\"><pre>MultinomialNB()</pre><b>In a Jupyter environment, please rerun this cell to show the HTML representation or trust the notebook. <br />On GitHub, the HTML representation is unable to render, please try loading this page with nbviewer.org.</b></div><div class=\"sk-container\" hidden><div class=\"sk-item\"><div class=\"sk-estimator sk-toggleable\"><input class=\"sk-toggleable__control sk-hidden--visually\" id=\"sk-estimator-id-2\" type=\"checkbox\" checked><label for=\"sk-estimator-id-2\" class=\"sk-toggleable__label sk-toggleable__label-arrow\">MultinomialNB</label><div class=\"sk-toggleable__content\"><pre>MultinomialNB()</pre></div></div></div></div></div>"
      ],
      "text/plain": [
       "MultinomialNB()"
      ]
     },
     "execution_count": 106,
     "metadata": {},
     "output_type": "execute_result"
    }
   ],
   "source": [
    "naive_bayes_classifier = MultinomialNB()\n",
    "naive_bayes_classifier.fit(X_train_tf, data_dict['label'])\n"
   ]
  },
  {
   "cell_type": "code",
   "execution_count": 107,
   "id": "ff72a754",
   "metadata": {},
   "outputs": [],
   "source": [
    "y_pred = naive_bayes_classifier.predict(X_test_tf)"
   ]
  },
  {
   "cell_type": "code",
   "execution_count": 108,
   "id": "f929f2c0",
   "metadata": {},
   "outputs": [
    {
     "name": "stdout",
     "output_type": "stream",
     "text": [
      "              precision    recall  f1-score   support\n",
      "\n",
      "          No       0.87      1.00      0.93       866\n",
      "         Yes       0.73      0.06      0.11       134\n",
      "\n",
      "    accuracy                           0.87      1000\n",
      "   macro avg       0.80      0.53      0.52      1000\n",
      "weighted avg       0.85      0.87      0.82      1000\n",
      "\n"
     ]
    }
   ],
   "source": [
    "score1 = metrics.accuracy_score(data_test_dict['label'], y_pred)\n",
    "print(metrics.classification_report(data_test_dict['label'], y_pred,\n",
    "                                            target_names=['No', 'Yes']))\n"
   ]
  },
  {
   "cell_type": "code",
   "execution_count": null,
   "id": "5de21c3d",
   "metadata": {},
   "outputs": [],
   "source": []
  },
  {
   "cell_type": "markdown",
   "id": "f6e20efc",
   "metadata": {},
   "source": [
    "### Fasttext text classifier"
   ]
  },
  {
   "cell_type": "code",
   "execution_count": 73,
   "id": "e90a62b8",
   "metadata": {},
   "outputs": [
    {
     "data": {
      "text/plain": [
       "'/home/maciektr/Programowanie/AGH_Laby/nlp/6_classification/data.txt'"
      ]
     },
     "execution_count": 73,
     "metadata": {},
     "output_type": "execute_result"
    }
   ],
   "source": [
    "data_path = os.path.abspath('./data.txt')\n",
    "data_path"
   ]
  },
  {
   "cell_type": "code",
   "execution_count": 74,
   "id": "cd99d385",
   "metadata": {},
   "outputs": [],
   "source": [
    "def fasttext_write_data(data, data_path: str):\n",
    "    with open(data_path, 'w+') as file:\n",
    "        data_dict = dataset1['train'].to_dict()\n",
    "        for text, label in zip(data_dict['text'], data_dict['label']):\n",
    "            text = text.replace('\\n', ' ')\n",
    "            file.write(f'__label__{label} {text}\\n')"
   ]
  },
  {
   "cell_type": "code",
   "execution_count": 75,
   "id": "80c7aa89",
   "metadata": {
    "scrolled": true
   },
   "outputs": [],
   "source": [
    "fasttext_write_data(dataset1['train'], data_path)"
   ]
  },
  {
   "cell_type": "code",
   "execution_count": 80,
   "id": "d917ebaf",
   "metadata": {},
   "outputs": [
    {
     "name": "stdout",
     "output_type": "stream",
     "text": [
      "huggingface/tokenizers: The current process just got forked, after parallelism has already been used. Disabling parallelism to avoid deadlocks...\n",
      "To disable this warning, you can either:\n",
      "\t- Avoid using `tokenizers` before the fork if possible\n",
      "\t- Explicitly set the environment variable TOKENIZERS_PARALLELISM=(true | false)\n",
      "__label__0 Dla mnie faworytem do tytułu będzie Cracovia. Zobaczymy, czy typ się sprawdzi.\r\n",
      "__label__0 @anonymized_account @anonymized_account Brawo ty Daria kibic ma być na dobre i złe\r\n",
      "__label__0 @anonymized_account @anonymized_account Super, polski premier składa kwiaty na grobach kolaborantów. Ale doczekaliśmy czasów.\r\n",
      "__label__0 @anonymized_account @anonymized_account Musi. Innej drogi nie mamy.\r\n",
      "__label__0 Odrzut natychmiastowy, kwaśna mina, mam problem\r\n"
     ]
    }
   ],
   "source": [
    "! head -n 5 data.txt"
   ]
  },
  {
   "cell_type": "code",
   "execution_count": 76,
   "id": "3408e92f",
   "metadata": {},
   "outputs": [
    {
     "name": "stderr",
     "output_type": "stream",
     "text": [
      "\r",
      "Read 0M words\n",
      "Number of words:  31486\n",
      "Number of labels: 2\n",
      "\r",
      "Progress: 100.0% words/sec/thread:  478352 lr: -0.000034 avg.loss:  0.202303 ETA:   0h 0m 0s\r",
      "Progress: 100.0% words/sec/thread:  477823 lr:  0.000000 avg.loss:  0.202303 ETA:   0h 0m 0s\n"
     ]
    }
   ],
   "source": [
    "classifier_fasttext_data1 = fasttext.train_supervised(input=data_path)"
   ]
  },
  {
   "cell_type": "code",
   "execution_count": 82,
   "id": "a9cf9640",
   "metadata": {},
   "outputs": [],
   "source": [
    "fasttext_write_data(dataset2['train'], data_path)"
   ]
  },
  {
   "cell_type": "code",
   "execution_count": 83,
   "id": "a8f23a35",
   "metadata": {},
   "outputs": [
    {
     "name": "stdout",
     "output_type": "stream",
     "text": [
      "huggingface/tokenizers: The current process just got forked, after parallelism has already been used. Disabling parallelism to avoid deadlocks...\n",
      "To disable this warning, you can either:\n",
      "\t- Avoid using `tokenizers` before the fork if possible\n",
      "\t- Explicitly set the environment variable TOKENIZERS_PARALLELISM=(true | false)\n",
      "__label__0 Dla mnie faworytem do tytułu będzie Cracovia. Zobaczymy, czy typ się sprawdzi.\r\n",
      "__label__0 @anonymized_account @anonymized_account Brawo ty Daria kibic ma być na dobre i złe\r\n",
      "__label__0 @anonymized_account @anonymized_account Super, polski premier składa kwiaty na grobach kolaborantów. Ale doczekaliśmy czasów.\r\n",
      "__label__0 @anonymized_account @anonymized_account Musi. Innej drogi nie mamy.\r\n",
      "__label__0 Odrzut natychmiastowy, kwaśna mina, mam problem\r\n"
     ]
    }
   ],
   "source": [
    "! head -n 5 data.txt"
   ]
  },
  {
   "cell_type": "code",
   "execution_count": 78,
   "id": "59e6ad1d",
   "metadata": {},
   "outputs": [
    {
     "name": "stderr",
     "output_type": "stream",
     "text": [
      "\r",
      "Read 0M words\n",
      "Number of words:  31486\n",
      "Number of labels: 2\n",
      "\r",
      "Progress: 100.0% words/sec/thread:  478604 lr: -0.000043 avg.loss:  0.206674 ETA:   0h 0m 0s\r",
      "Progress: 100.0% words/sec/thread:  478078 lr:  0.000000 avg.loss:  0.206674 ETA:   0h 0m 0s\n"
     ]
    }
   ],
   "source": [
    "classifier_fasttext_data2 = fasttext.train_supervised(input=data_path)"
   ]
  },
  {
   "cell_type": "markdown",
   "id": "b8080457",
   "metadata": {},
   "source": [
    "### Transformer classifier "
   ]
  },
  {
   "cell_type": "code",
   "execution_count": null,
   "id": "21026eec",
   "metadata": {},
   "outputs": [],
   "source": [
    "# (take into account that a number of experiments should be performed for this model)."
   ]
  },
  {
   "cell_type": "code",
   "execution_count": 29,
   "id": "519fcd9b",
   "metadata": {},
   "outputs": [],
   "source": [
    "model_name = 'allegro/herbert-base-cased'\n",
    "# \"distilbert-base-uncased\""
   ]
  },
  {
   "cell_type": "code",
   "execution_count": 30,
   "id": "9f33fc70",
   "metadata": {},
   "outputs": [
    {
     "data": {
      "application/vnd.jupyter.widget-view+json": {
       "model_id": "9ec420d05b6d4d58b946007af98faec3",
       "version_major": 2,
       "version_minor": 0
      },
      "text/plain": [
       "  0%|          | 0/11 [00:00<?, ?ba/s]"
      ]
     },
     "metadata": {},
     "output_type": "display_data"
    },
    {
     "data": {
      "application/vnd.jupyter.widget-view+json": {
       "model_id": "ed73dce1922c4f578d42e8659ce3528f",
       "version_major": 2,
       "version_minor": 0
      },
      "text/plain": [
       "  0%|          | 0/1 [00:00<?, ?ba/s]"
      ]
     },
     "metadata": {},
     "output_type": "display_data"
    },
    {
     "data": {
      "application/vnd.jupyter.widget-view+json": {
       "model_id": "9d8a208f46d342ffb3e964c1d7136de3",
       "version_major": 2,
       "version_minor": 0
      },
      "text/plain": [
       "  0%|          | 0/11 [00:00<?, ?ba/s]"
      ]
     },
     "metadata": {},
     "output_type": "display_data"
    },
    {
     "data": {
      "application/vnd.jupyter.widget-view+json": {
       "model_id": "f272367983cb4b0b9f70a98ce7c83855",
       "version_major": 2,
       "version_minor": 0
      },
      "text/plain": [
       "  0%|          | 0/1 [00:00<?, ?ba/s]"
      ]
     },
     "metadata": {},
     "output_type": "display_data"
    }
   ],
   "source": [
    "tokenizer = AutoTokenizer.from_pretrained(model_name)\n",
    "\n",
    "def preprocess_function(examples):\n",
    "    return tokenizer(examples[\"text\"], truncation=True)\n",
    "\n",
    "tokenized_data1 = dataset1.map(preprocess_function, batched=True)\n",
    "tokenized_data2 = dataset2.map(preprocess_function, batched=True)"
   ]
  },
  {
   "cell_type": "code",
   "execution_count": 31,
   "id": "f52b86f4",
   "metadata": {},
   "outputs": [],
   "source": [
    "accuracy = evaluate.load(\"accuracy\")\n"
   ]
  },
  {
   "cell_type": "code",
   "execution_count": 32,
   "id": "6e967970",
   "metadata": {},
   "outputs": [],
   "source": [
    "def compute_metrics(eval_pred):\n",
    "    predictions, labels = eval_pred\n",
    "    predictions = np.argmax(predictions, axis=1)\n",
    "    return accuracy.compute(predictions=predictions, references=labels)\n"
   ]
  },
  {
   "cell_type": "code",
   "execution_count": null,
   "id": "666d3a80",
   "metadata": {},
   "outputs": [],
   "source": [
    "id2label = {0: \"NEGATIVE\", 1: \"POSITIVE\"}\n",
    "label2id = {\"NEGATIVE\": 0, \"POSITIVE\": 1}"
   ]
  },
  {
   "cell_type": "code",
   "execution_count": null,
   "id": "f53e7da7",
   "metadata": {},
   "outputs": [],
   "source": [
    "model = TFAutoModelForSequenceClassification.from_pretrained(\n",
    "    model_name, num_labels=2, id2label=id2label, label2id=label2id\n",
    ")"
   ]
  },
  {
   "cell_type": "code",
   "execution_count": null,
   "id": "1eba3f96",
   "metadata": {},
   "outputs": [],
   "source": [
    "data_collator = DataCollatorWithPadding(tokenizer=tokenizer, return_tensors=\"tf\")"
   ]
  },
  {
   "cell_type": "markdown",
   "id": "997c3406",
   "metadata": {},
   "source": [
    "Dataset 1"
   ]
  },
  {
   "cell_type": "code",
   "execution_count": 33,
   "id": "c32cbdfc",
   "metadata": {},
   "outputs": [],
   "source": [
    "batch_size = 16\n",
    "num_epochs = 5\n",
    "batches_per_epoch = len(tokenized_data1[\"train\"]) // batch_size\n",
    "total_train_steps = int(batches_per_epoch * num_epochs)\n",
    "optimizer, schedule = create_optimizer(init_lr=2e-5, num_warmup_steps=0, num_train_steps=total_train_steps)"
   ]
  },
  {
   "cell_type": "code",
   "execution_count": null,
   "id": "a56de311",
   "metadata": {
    "scrolled": true
   },
   "outputs": [],
   "source": [
    "tf_train_set = model.prepare_tf_dataset(\n",
    "    tokenized_data1[\"train\"],\n",
    "    shuffle=True,\n",
    "    batch_size=16,\n",
    "    collate_fn=data_collator,\n",
    ")\n",
    "\n",
    "tf_validation_set = model.prepare_tf_dataset(\n",
    "    tokenized_data1[\"test\"],\n",
    "    shuffle=False,\n",
    "    batch_size=16,\n",
    "    collate_fn=data_collator,\n",
    ")\n"
   ]
  },
  {
   "cell_type": "code",
   "execution_count": null,
   "id": "089cfc2e",
   "metadata": {},
   "outputs": [],
   "source": [
    "model.compile(optimizer=optimizer)"
   ]
  },
  {
   "cell_type": "code",
   "execution_count": null,
   "id": "07fa2532",
   "metadata": {},
   "outputs": [],
   "source": [
    "metric_callback = KerasMetricCallback(metric_fn=compute_metrics, eval_dataset=tf_validation_set)"
   ]
  },
  {
   "cell_type": "code",
   "execution_count": null,
   "id": "89fea7dc",
   "metadata": {
    "scrolled": false
   },
   "outputs": [],
   "source": [
    "model.fit(x=tf_train_set, validation_data=tf_validation_set, epochs=3, callbacks=[metric_callback])"
   ]
  },
  {
   "cell_type": "markdown",
   "id": "b1198da4",
   "metadata": {},
   "source": [
    "Dataset 2"
   ]
  },
  {
   "cell_type": "code",
   "execution_count": 33,
   "id": "71f39cac",
   "metadata": {},
   "outputs": [],
   "source": [
    "batch_size = 16\n",
    "num_epochs = 5\n",
    "batches_per_epoch = len(tokenized_data2[\"train\"]) // batch_size\n",
    "total_train_steps = int(batches_per_epoch * num_epochs)\n",
    "optimizer, schedule = create_optimizer(init_lr=2e-5, num_warmup_steps=0, num_train_steps=total_train_steps)"
   ]
  },
  {
   "cell_type": "code",
   "execution_count": null,
   "id": "1fd6d76b",
   "metadata": {
    "scrolled": true
   },
   "outputs": [],
   "source": [
    "tf_train_set = model.prepare_tf_dataset(\n",
    "    tokenized_data2[\"train\"],\n",
    "    shuffle=True,\n",
    "    batch_size=16,\n",
    "    collate_fn=data_collator,\n",
    ")\n",
    "\n",
    "tf_validation_set = model.prepare_tf_dataset(\n",
    "    tokenized_data2[\"test\"],\n",
    "    shuffle=False,\n",
    "    batch_size=16,\n",
    "    collate_fn=data_collator,\n",
    ")\n"
   ]
  },
  {
   "cell_type": "code",
   "execution_count": null,
   "id": "e778bc97",
   "metadata": {},
   "outputs": [],
   "source": [
    "model.compile(optimizer=optimizer)"
   ]
  },
  {
   "cell_type": "code",
   "execution_count": null,
   "id": "c9e032a2",
   "metadata": {},
   "outputs": [],
   "source": [
    "metric_callback = KerasMetricCallback(metric_fn=compute_metrics, eval_dataset=tf_validation_set)"
   ]
  },
  {
   "cell_type": "code",
   "execution_count": null,
   "id": "6aaca902",
   "metadata": {
    "scrolled": false
   },
   "outputs": [],
   "source": [
    "model.fit(x=tf_train_set, validation_data=tf_validation_set, epochs=3, callbacks=[metric_callback])"
   ]
  }
 ],
 "metadata": {
  "kernelspec": {
   "display_name": "Python 3 (ipykernel)",
   "language": "python",
   "name": "python3"
  },
  "language_info": {
   "codemirror_mode": {
    "name": "ipython",
    "version": 3
   },
   "file_extension": ".py",
   "mimetype": "text/x-python",
   "name": "python",
   "nbconvert_exporter": "python",
   "pygments_lexer": "ipython3",
   "version": "3.9.15"
  }
 },
 "nbformat": 4,
 "nbformat_minor": 5
}
