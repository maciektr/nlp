{
 "cells": [
  {
   "cell_type": "code",
   "execution_count": 1,
   "id": "616bda48",
   "metadata": {},
   "outputs": [
    {
     "name": "stderr",
     "output_type": "stream",
     "text": [
      "2022-12-08 19:18:27.856380: I tensorflow/core/platform/cpu_feature_guard.cc:193] This TensorFlow binary is optimized with oneAPI Deep Neural Network Library (oneDNN) to use the following CPU instructions in performance-critical operations:  AVX2 FMA\n",
      "To enable them in other operations, rebuild TensorFlow with the appropriate compiler flags.\n",
      "2022-12-08 19:18:28.056382: E tensorflow/stream_executor/cuda/cuda_blas.cc:2981] Unable to register cuBLAS factory: Attempting to register factory for plugin cuBLAS when one has already been registered\n",
      "2022-12-08 19:18:28.800274: W tensorflow/stream_executor/platform/default/dso_loader.cc:64] Could not load dynamic library 'libnvinfer.so.7'; dlerror: libnvinfer.so.7: cannot open shared object file: No such file or directory; LD_LIBRARY_PATH: /usr/local/cuda-11/lib64:/usr/local/cuda-11/lib64:\n",
      "2022-12-08 19:18:28.800539: W tensorflow/stream_executor/platform/default/dso_loader.cc:64] Could not load dynamic library 'libnvinfer_plugin.so.7'; dlerror: libnvinfer_plugin.so.7: cannot open shared object file: No such file or directory; LD_LIBRARY_PATH: /usr/local/cuda-11/lib64:/usr/local/cuda-11/lib64:\n",
      "2022-12-08 19:18:28.800547: W tensorflow/compiler/tf2tensorrt/utils/py_utils.cc:38] TF-TRT Warning: Cannot dlopen some TensorRT libraries. If you would like to use Nvidia GPU with TensorRT, please make sure the missing libraries mentioned above are installed properly.\n"
     ]
    }
   ],
   "source": [
    "from transformers import AutoModelForMaskedLM, AutoTokenizer\n",
    "import torch\n",
    "from dataclasses import dataclass\n",
    "from pprint import pprint\n",
    "from prettytable import PrettyTable"
   ]
  },
  {
   "cell_type": "code",
   "execution_count": 2,
   "id": "7e5d11bd",
   "metadata": {},
   "outputs": [
    {
     "data": {
      "text/html": [
       "<style>.container { width:100% !important; }</style>"
      ],
      "text/plain": [
       "<IPython.core.display.HTML object>"
      ]
     },
     "metadata": {},
     "output_type": "display_data"
    }
   ],
   "source": [
    "from IPython.display import display, HTML\n",
    "display(HTML(\"<style>.container { width:100% !important; }</style>\"))"
   ]
  },
  {
   "cell_type": "code",
   "execution_count": 3,
   "id": "87779db9",
   "metadata": {},
   "outputs": [],
   "source": [
    "MASK = \"[MASK]\""
   ]
  },
  {
   "cell_type": "code",
   "execution_count": 4,
   "id": "24d45fb3",
   "metadata": {},
   "outputs": [],
   "source": [
    "names = [\n",
    "    \"Twitter/twhin-bert-base\",\n",
    "    \"Geotrend/bert-base-pl-cased\",\n",
    "    \"allegro/herbert-base-cased\",\n",
    "]"
   ]
  },
  {
   "cell_type": "code",
   "execution_count": 5,
   "id": "d8c842d1",
   "metadata": {},
   "outputs": [],
   "source": [
    "@dataclass\n",
    "class Model:\n",
    "    name: str\n",
    "    model: AutoModelForMaskedLM\n",
    "    tokenizer: AutoTokenizer\n",
    "\n",
    "\n",
    "def predict(model: Model, text: str, n_predictions: int = 5):\n",
    "    text = text.replace(MASK, model.tokenizer.mask_token)\n",
    "    inputs = model.tokenizer(text, return_tensors=\"pt\")\n",
    "\n",
    "    mask_token_index = torch.where(\n",
    "        inputs[\"input_ids\"] == model.tokenizer.mask_token_id\n",
    "    )[1][0].item()\n",
    "\n",
    "    token_logits = model.model(**inputs).logits\n",
    "    mask_token_logits = token_logits[0, mask_token_index, :]\n",
    "\n",
    "    return [\n",
    "        text.replace(model.tokenizer.mask_token, model.tokenizer.decode([token]))\n",
    "        for token in torch.topk(mask_token_logits, n_predictions)[-1]\n",
    "    ]\n"
   ]
  },
  {
   "cell_type": "code",
   "execution_count": 6,
   "id": "0c1cc208",
   "metadata": {
    "scrolled": false
   },
   "outputs": [
    {
     "name": "stderr",
     "output_type": "stream",
     "text": [
      "Some weights of the model checkpoint at allegro/herbert-base-cased were not used when initializing BertForMaskedLM: ['cls.sso.sso_relationship.bias', 'cls.sso.sso_relationship.weight']\n",
      "- This IS expected if you are initializing BertForMaskedLM from the checkpoint of a model trained on another task or with another architecture (e.g. initializing a BertForSequenceClassification model from a BertForPreTraining model).\n",
      "- This IS NOT expected if you are initializing BertForMaskedLM from the checkpoint of a model that you expect to be exactly identical (initializing a BertForSequenceClassification model from a BertForSequenceClassification model).\n"
     ]
    }
   ],
   "source": [
    "models = [\n",
    "    Model(\n",
    "        name=name,\n",
    "        model=AutoModelForMaskedLM.from_pretrained(name),\n",
    "        tokenizer=AutoTokenizer.from_pretrained(name),\n",
    "    ) for name in names\n",
    "]"
   ]
  },
  {
   "cell_type": "code",
   "execution_count": 7,
   "id": "af456251",
   "metadata": {},
   "outputs": [],
   "source": [
    "sequences = [\n",
    "        \"Warszawa to największe [MASK].\",  # Mianownik\n",
    "        \"Karol nie zbił [MASK].\",  # Dopelnbiacz\n",
    "        \"Złodziej ukradł [MASK] torebkę.\",  # Celownik\n",
    "        \"Od zimnego powietrza można nabawić się [MASK].\",  # Biernik\n",
    "        \"Poluzowane śluby należy dokręcać [MASK].\",  # Narzednik\n",
    "        \"W ostatnim czasie dużo mówi się o [MASK].\",  # Miejscownik\n",
    "        \"Witaj drogi [MASK]!\",  # Wolacz\n",
    "    ]\n"
   ]
  },
  {
   "cell_type": "code",
   "execution_count": 8,
   "id": "b5cea220",
   "metadata": {},
   "outputs": [],
   "source": [
    "def print_table(result):\n",
    "    table = PrettyTable(result.keys())\n",
    "    for i in range(len(result[list(result.keys())[0]])):\n",
    "        row = [result[key][i] for key in result.keys()]\n",
    "        table.add_row(row)\n",
    "    print(table)\n",
    "            "
   ]
  },
  {
   "cell_type": "code",
   "execution_count": 9,
   "id": "fde2c65a",
   "metadata": {
    "scrolled": false
   },
   "outputs": [],
   "source": [
    "def predict_sequences(sequences):\n",
    "    for sequence in sequences:\n",
    "        result = {}\n",
    "        for model in models:\n",
    "            result[model.name] = predict(model, sequence)\n",
    "        print(sequence)\n",
    "        print_table(result)"
   ]
  },
  {
   "cell_type": "markdown",
   "id": "228a59e8",
   "metadata": {},
   "source": [
    "## Przypadki"
   ]
  },
  {
   "cell_type": "code",
   "execution_count": 10,
   "id": "261794bb",
   "metadata": {},
   "outputs": [
    {
     "name": "stdout",
     "output_type": "stream",
     "text": [
      "Warszawa to największe [MASK].\n",
      "+---------------------------------+----------------------------------+----------------------------------+\n",
      "|     Twitter/twhin-bert-base     |   Geotrend/bert-base-pl-cased    |    allegro/herbert-base-cased    |\n",
      "+---------------------------------+----------------------------------+----------------------------------+\n",
      "|  Warszawa to największe miasto. |  Warszawa to największe miasto.  |  Warszawa to największe miasto.  |\n",
      "|  Warszawa to największe miasta. |  Warszawa to największe miasta.  | Warszawa to największe lotnisko. |\n",
      "| Warszawa to największe miejsce. |   Warszawa to największe woj.    | Warszawa to największe centrum.  |\n",
      "|   Warszawa to największe zło.   | Warszawa to największe Warszawa. |  Warszawa to największe miasta.  |\n",
      "|  Warszawa to największe święto. |  Warszawa to największe miast.   | Warszawa to największe atrakcje. |\n",
      "+---------------------------------+----------------------------------+----------------------------------+\n",
      "Karol nie zbił [MASK].\n",
      "+-------------------------+-----------------------------+----------------------------+\n",
      "| Twitter/twhin-bert-base | Geotrend/bert-base-pl-cased | allegro/herbert-base-cased |\n",
      "+-------------------------+-----------------------------+----------------------------+\n",
      "|   Karol nie zbił nic.   |    Karol nie zbił Karol.    |  Karol nie zbił rekordu.   |\n",
      "|   Karol nie zbił się.   |     Karol nie zbił się.     |    Karol nie zbił gola.    |\n",
      "|   Karol nie zbił wody.  |    Karol nie zbił Karola.   |   Karol nie zbił bramki.   |\n",
      "|   Karol nie zbił mnie.  |      Karol nie zbił go.     |   Karol nie zbił punktu.   |\n",
      "|    Karol nie zbił go.   |     Karol nie zbił ich.     |   Karol nie zbił wyniku.   |\n",
      "+-------------------------+-----------------------------+----------------------------+\n",
      "Złodziej ukradł [MASK] torebkę.\n",
      "+--------------------------------+------------------------------+--------------------------------+\n",
      "|    Twitter/twhin-bert-base     | Geotrend/bert-base-pl-cased  |   allegro/herbert-base-cased   |\n",
      "+--------------------------------+------------------------------+--------------------------------+\n",
      "|  Złodziej ukradł mi torebkę.   | Złodziej ukradł na torebkę.  |  Złodziej ukradł jej torebkę.  |\n",
      "|  Złodziej ukradł nam torebkę.  |  Złodziej ukradł w torebkę.  |  Złodziej ukradł mu torebkę.   |\n",
      "| Złodziej ukradł sobie torebkę. | Złodziej ukradł się torebkę. |  Złodziej ukradł też torebkę.  |\n",
      "| Złodziej ukradł moją torebkę.  | Złodziej ukradł ##o torebkę. | Złodziej ukradł także torebkę. |\n",
      "|  Złodziej ukradł mu torebkę.   | Złodziej ukradł tę torebkę.  | Złodziej ukradł jego torebkę.  |\n",
      "+--------------------------------+------------------------------+--------------------------------+\n",
      "Od zimnego powietrza można nabawić się [MASK].\n",
      "+--------------------------------------------------+---------------------------------------------+--------------------------------------------------+\n",
      "|             Twitter/twhin-bert-base              |         Geotrend/bert-base-pl-cased         |            allegro/herbert-base-cased            |\n",
      "+--------------------------------------------------+---------------------------------------------+--------------------------------------------------+\n",
      "| Od zimnego powietrza można nabawić się wszędzie. |  Od zimnego powietrza można nabawić się np. |  Od zimnego powietrza można nabawić się grypy.   |\n",
      "|  Od zimnego powietrza można nabawić się lepiej.  |  Od zimnego powietrza można nabawić się ok. |  Od zimnego powietrza można nabawić się chorób.  |\n",
      "|    Od zimnego powietrza można nabawić się ..     | Od zimnego powietrza można nabawić się tzw. | Od zimnego powietrza można nabawić się choroby.  |\n",
      "|  Od zimnego powietrza można nabawić się dobrze.  |  Od zimnego powietrza można nabawić się św. | Od zimnego powietrza można nabawić się kontuzji. |\n",
      "| Od zimnego powietrza można nabawić się miłości.  |  Od zimnego powietrza można nabawić się pt. |   Od zimnego powietrza można nabawić się bólu.   |\n",
      "+--------------------------------------------------+---------------------------------------------+--------------------------------------------------+\n",
      "Poluzowane śluby należy dokręcać [MASK].\n",
      "+----------------------------------------------+---------------------------------------+---------------------------------------------+\n",
      "|           Twitter/twhin-bert-base            |      Geotrend/bert-base-pl-cased      |          allegro/herbert-base-cased         |\n",
      "+----------------------------------------------+---------------------------------------+---------------------------------------------+\n",
      "|     Poluzowane śluby należy dokręcać ..      |  Poluzowane śluby należy dokręcać np. |  Poluzowane śluby należy dokręcać ręcznie.  |\n",
      "| Poluzowane śluby należy dokręcać wcześniej.  |  Poluzowane śluby należy dokręcać ks. |  Poluzowane śluby należy dokręcać ponownie. |\n",
      "| Poluzowane śluby należy dokręcać codziennie. | Poluzowane śluby należy dokręcać woj. |  Poluzowane śluby należy dokręcać palcami.  |\n",
      "|   Poluzowane śluby należy dokręcać teraz.    |  Poluzowane śluby należy dokręcać św. |   Poluzowane śluby należy dokręcać głową.   |\n",
      "|     Poluzowane śluby należy dokręcać !.      |  Poluzowane śluby należy dokręcać ok. | Poluzowane śluby należy dokręcać wcześniej. |\n",
      "+----------------------------------------------+---------------------------------------+---------------------------------------------+\n",
      "W ostatnim czasie dużo mówi się o [MASK].\n",
      "+----------------------------------------------+---------------------------------------------+-------------------------------------------------+\n",
      "|           Twitter/twhin-bert-base            |         Geotrend/bert-base-pl-cased         |            allegro/herbert-base-cased           |\n",
      "+----------------------------------------------+---------------------------------------------+-------------------------------------------------+\n",
      "|   W ostatnim czasie dużo mówi się o mnie.    |    W ostatnim czasie dużo mówi się o nim.   |       W ostatnim czasie dużo mówi się o ..      |\n",
      "|  W ostatnim czasie dużo mówi się o Polsce.   |    W ostatnim czasie dużo mówi się o pt.    |  W ostatnim czasie dużo mówi się o bezrobociu.  |\n",
      "|   W ostatnim czasie dużo mówi się o życiu.   |   W ostatnim czasie dużo mówi się o niej.   |  W ostatnim czasie dużo mówi się o pieniądzach. |\n",
      "|  W ostatnim czasie dużo mówi się o miłości.  | W ostatnim czasie dużo mówi się o rodzinie. | W ostatnim czasie dużo mówi się o prywatyzacji. |\n",
      "| W ostatnim czasie dużo mówi się o wszystkim. |    W ostatnim czasie dużo mówi się o tym.   |    W ostatnim czasie dużo mówi się o aborcji.   |\n",
      "+----------------------------------------------+---------------------------------------------+-------------------------------------------------+\n",
      "Witaj drogi [MASK]!\n",
      "+-------------------------+-----------------------------+----------------------------+\n",
      "| Twitter/twhin-bert-base | Geotrend/bert-base-pl-cased | allegro/herbert-base-cased |\n",
      "+-------------------------+-----------------------------+----------------------------+\n",
      "|      Witaj drogi e!     |        Witaj drogi !!       |   Witaj drogi człowieku!   |\n",
      "|   Witaj drogi Państwo!  |      Witaj drogi ##em!      |    Witaj drogi Łukasz!     |\n",
      "|     Witaj drogi ki!     |      Witaj drogi ##ego!     |     Witaj drogi Boże!      |\n",
      "|    Witaj drogi roko!    |       Witaj drogi go!       |     Witaj drogi Karol!     |\n",
      "|   Witaj drogi ludzie!   |       Witaj drogi ##e!      |     Witaj drogi mały!      |\n",
      "+-------------------------+-----------------------------+----------------------------+\n"
     ]
    }
   ],
   "source": [
    "predict_sequences(sequences)"
   ]
  },
  {
   "cell_type": "code",
   "execution_count": 11,
   "id": "5dd1ba61",
   "metadata": {},
   "outputs": [],
   "source": [
    "sequences = [\n",
    "    \"Kocham mojego [MASK].\",\n",
    "    \"Kocham moją [MASK].\",\n",
    "    \"Kocham moje [MASK].\",\n",
    "]"
   ]
  },
  {
   "cell_type": "code",
   "execution_count": 12,
   "id": "e580d3b9",
   "metadata": {},
   "outputs": [
    {
     "name": "stdout",
     "output_type": "stream",
     "text": [
      "Kocham mojego [MASK].\n",
      "+-------------------------+-----------------------------+----------------------------+\n",
      "| Twitter/twhin-bert-base | Geotrend/bert-base-pl-cased | allegro/herbert-base-cased |\n",
      "+-------------------------+-----------------------------+----------------------------+\n",
      "|   Kocham mojego kota.   |      Kocham mojego god.     |    Kocham mojego syna.     |\n",
      "|    Kocham mojego psa.   |      Kocham mojego je.      |    Kocham mojego ojca.     |\n",
      "|   Kocham mojego syna.   |      Kocham mojego dr.      |    Kocham mojego męża.     |\n",
      "|  Kocham mojego miasta.  |      Kocham mojego itd.     |    Kocham mojego brata.    |\n",
      "|   Kocham mojego konta.  |     Kocham mojego narod.    |    Kocham mojego synka.    |\n",
      "+-------------------------+-----------------------------+----------------------------+\n",
      "Kocham moją [MASK].\n",
      "+-------------------------+-----------------------------+----------------------------+\n",
      "| Twitter/twhin-bert-base | Geotrend/bert-base-pl-cased | allegro/herbert-base-cased |\n",
      "+-------------------------+-----------------------------+----------------------------+\n",
      "|   Kocham moją miłość.   |      Kocham moją ##ką.      |     Kocham moją pracę.     |\n",
      "|    Kocham moją pracę.   |      Kocham moją ##kę.      |     Kocham moją żonę.      |\n",
      "|    Kocham moją osobę.   |       Kocham moją ##ł.      |     Kocham moją mamę.      |\n",
      "|    Kocham moją twarz.   |       Kocham moją wyd.      |     Kocham moją córkę.     |\n",
      "|   Kocham moją Polskę.   |      Kocham moją ##rką.     |    Kocham moją rodzinę.    |\n",
      "+-------------------------+-----------------------------+----------------------------+\n",
      "Kocham moje [MASK].\n",
      "+-------------------------+-----------------------------+----------------------------+\n",
      "| Twitter/twhin-bert-base | Geotrend/bert-base-pl-cased | allegro/herbert-base-cased |\n",
      "+-------------------------+-----------------------------+----------------------------+\n",
      "|   Kocham moje kobiety.  |      Kocham moje boje.      |     Kocham moje życie.     |\n",
      "|   Kocham moje dzieci.   |      Kocham moje album.     |    Kocham moje dzieci.     |\n",
      "|    Kocham moje życie.   |      Kocham moje radio.     |     Kocham moje serce.     |\n",
      "|    Kocham moje włosy.   |       Kocham moje rad.      |    Kocham moje dziecko.    |\n",
      "|  Kocham moje szczęście. |       Kocham moje one.      |    Kocham moje miasto.     |\n",
      "+-------------------------+-----------------------------+----------------------------+\n"
     ]
    }
   ],
   "source": [
    "predict_sequences(sequences)"
   ]
  },
  {
   "cell_type": "code",
   "execution_count": 13,
   "id": "bcf48588",
   "metadata": {},
   "outputs": [],
   "source": [
    "sequences = [\n",
    "    \"[MASK] wrze w temperaturze 100 stopni, a zamarza w temperaturze 0 stopni Celsjusza.\",\n",
    "    \"Dzięki [MASK] wszystkie obiekty posiadające masę lub energię wzajemnie przyciągają się.\",\n",
    "    \"Kierujący pojazdem przekroczył dozwoloną na polskich autostradach prędkość [MASK] kilometrów na godzinę.\",\n",
    "    ]"
   ]
  },
  {
   "cell_type": "code",
   "execution_count": 14,
   "id": "eab38b89",
   "metadata": {},
   "outputs": [
    {
     "name": "stdout",
     "output_type": "stream",
     "text": [
      "[MASK] wrze w temperaturze 100 stopni, a zamarza w temperaturze 0 stopni Celsjusza.\n",
      "+--------------------------------------------------------------------------------------+-----------------------------------------------------------------------------------+----------------------------------------------------------------------------------------+\n",
      "|                               Twitter/twhin-bert-base                                |                            Geotrend/bert-base-pl-cased                            |                               allegro/herbert-base-cased                               |\n",
      "+--------------------------------------------------------------------------------------+-----------------------------------------------------------------------------------+----------------------------------------------------------------------------------------+\n",
      "| Ukraina wrze w temperaturze 100 stopni, a zamarza w temperaturze 0 stopni Celsjusza. | Jego wrze w temperaturze 100 stopni, a zamarza w temperaturze 0 stopni Celsjusza. |   Woda wrze w temperaturze 100 stopni, a zamarza w temperaturze 0 stopni Celsjusza.    |\n",
      "|  Putin wrze w temperaturze 100 stopni, a zamarza w temperaturze 0 stopni Celsjusza.  |  Za wrze w temperaturze 100 stopni, a zamarza w temperaturze 0 stopni Celsjusza.  |  Słońce wrze w temperaturze 100 stopni, a zamarza w temperaturze 0 stopni Celsjusza.   |\n",
      "| Polska wrze w temperaturze 100 stopni, a zamarza w temperaturze 0 stopni Celsjusza.  |  Po wrze w temperaturze 100 stopni, a zamarza w temperaturze 0 stopni Celsjusza.  |  Ziemia wrze w temperaturze 100 stopni, a zamarza w temperaturze 0 stopni Celsjusza.   |\n",
      "| Merkel wrze w temperaturze 100 stopni, a zamarza w temperaturze 0 stopni Celsjusza.  |  Nie wrze w temperaturze 100 stopni, a zamarza w temperaturze 0 stopni Celsjusza. | Następnie wrze w temperaturze 100 stopni, a zamarza w temperaturze 0 stopni Celsjusza. |\n",
      "| Europa wrze w temperaturze 100 stopni, a zamarza w temperaturze 0 stopni Celsjusza.  |  Ich wrze w temperaturze 100 stopni, a zamarza w temperaturze 0 stopni Celsjusza. |   Ciało wrze w temperaturze 100 stopni, a zamarza w temperaturze 0 stopni Celsjusza.   |\n",
      "+--------------------------------------------------------------------------------------+-----------------------------------------------------------------------------------+----------------------------------------------------------------------------------------+\n",
      "Dzięki [MASK] wszystkie obiekty posiadające masę lub energię wzajemnie przyciągają się.\n",
      "+---------------------------------------------------------------------------------------+----------------------------------------------------------------------------------------+----------------------------------------------------------------------------------------+\n",
      "|                                Twitter/twhin-bert-base                                |                              Geotrend/bert-base-pl-cased                               |                               allegro/herbert-base-cased                               |\n",
      "+---------------------------------------------------------------------------------------+----------------------------------------------------------------------------------------+----------------------------------------------------------------------------------------+\n",
      "|  Dzięki Wam wszystkie obiekty posiadające masę lub energię wzajemnie przyciągają się. | Dzięki temu wszystkie obiekty posiadające masę lub energię wzajemnie przyciągają się.  | Dzięki temu wszystkie obiekty posiadające masę lub energię wzajemnie przyciągają się.  |\n",
      "| Dzięki temu wszystkie obiekty posiadające masę lub energię wzajemnie przyciągają się. |  Dzięki to wszystkie obiekty posiadające masę lub energię wzajemnie przyciągają się.   | Dzięki niemu wszystkie obiekty posiadające masę lub energię wzajemnie przyciągają się. |\n",
      "| Dzięki Bogu wszystkie obiekty posiadające masę lub energię wzajemnie przyciągają się. | Dzięki tego wszystkie obiekty posiadające masę lub energię wzajemnie przyciągają się.  | Dzięki niej wszystkie obiekty posiadające masę lub energię wzajemnie przyciągają się.  |\n",
      "|  Dzięki nim wszystkie obiekty posiadające masę lub energię wzajemnie przyciągają się. | Dzięki sobie wszystkie obiekty posiadające masę lub energię wzajemnie przyciągają się. |  Dzięki nim wszystkie obiekty posiadające masę lub energię wzajemnie przyciągają się.  |\n",
      "|  Dzięki za wszystkie obiekty posiadające masę lub energię wzajemnie przyciągają się.  |  Dzięki się wszystkie obiekty posiadające masę lub energię wzajemnie przyciągają się.  | Dzięki czemu wszystkie obiekty posiadające masę lub energię wzajemnie przyciągają się. |\n",
      "+---------------------------------------------------------------------------------------+----------------------------------------------------------------------------------------+----------------------------------------------------------------------------------------+\n",
      "Kierujący pojazdem przekroczył dozwoloną na polskich autostradach prędkość [MASK] kilometrów na godzinę.\n",
      "+-------------------------------------------------------------------------------------------------------+-------------------------------------------------------------------------------------------------------+------------------------------------------------------------------------------------------------------+\n",
      "|                                        Twitter/twhin-bert-base                                        |                                      Geotrend/bert-base-pl-cased                                      |                                      allegro/herbert-base-cased                                      |\n",
      "+-------------------------------------------------------------------------------------------------------+-------------------------------------------------------------------------------------------------------+------------------------------------------------------------------------------------------------------+\n",
      "|  Kierujący pojazdem przekroczył dozwoloną na polskich autostradach prędkość 60 kilometrów na godzinę. |  Kierujący pojazdem przekroczył dozwoloną na polskich autostradach prędkość 5 kilometrów na godzinę.  | Kierujący pojazdem przekroczył dozwoloną na polskich autostradach prędkość 50 kilometrów na godzinę. |\n",
      "|  Kierujący pojazdem przekroczył dozwoloną na polskich autostradach prędkość 20 kilometrów na godzinę. |  Kierujący pojazdem przekroczył dozwoloną na polskich autostradach prędkość 20 kilometrów na godzinę. | Kierujący pojazdem przekroczył dozwoloną na polskich autostradach prędkość 40 kilometrów na godzinę. |\n",
      "|  Kierujący pojazdem przekroczył dozwoloną na polskich autostradach prędkość 5 kilometrów na godzinę.  |  Kierujący pojazdem przekroczył dozwoloną na polskich autostradach prędkość 45 kilometrów na godzinę. | Kierujący pojazdem przekroczył dozwoloną na polskich autostradach prędkość 60 kilometrów na godzinę. |\n",
      "|  Kierujący pojazdem przekroczył dozwoloną na polskich autostradach prędkość 30 kilometrów na godzinę. | Kierujący pojazdem przekroczył dozwoloną na polskich autostradach prędkość 500 kilometrów na godzinę. | Kierujący pojazdem przekroczył dozwoloną na polskich autostradach prędkość 25 kilometrów na godzinę. |\n",
      "| Kierujący pojazdem przekroczył dozwoloną na polskich autostradach prędkość 100 kilometrów na godzinę. |  Kierujący pojazdem przekroczył dozwoloną na polskich autostradach prędkość 50 kilometrów na godzinę. | Kierujący pojazdem przekroczył dozwoloną na polskich autostradach prędkość 20 kilometrów na godzinę. |\n",
      "+-------------------------------------------------------------------------------------------------------+-------------------------------------------------------------------------------------------------------+------------------------------------------------------------------------------------------------------+\n"
     ]
    }
   ],
   "source": [
    "predict_sequences(sequences)"
   ]
  },
  {
   "cell_type": "markdown",
   "id": "bf0d8657",
   "metadata": {},
   "source": [
    "**Which of the models produced the best results?**\n",
    "\n",
    "W mojej ocenie z zadaniem predykcji najlpepiej poradził sobie model Allegro. \n",
    "\n",
    "**Was any of the models able to capture Polish grammar?**\n",
    "\n",
    "W bardzo wielu przypadkach modele nie radziły sobie z tworzeniem poprawnych gramatycznie wyrazów, nawet w przypadkach tak prostych jak \"Witaj drogi Łukasz!\".\n",
    "\n",
    "**Was any of the models able to capture long-distant relationships between the words?**\n",
    "\n",
    "W zasadzie wszystkie modele poradziły sobie z dopasowaniem wyrazów o właściwym rodzaju. \n",
    "\n",
    "**Was any of the models able to capture world knowledge?**\n",
    "\n",
    "None of evaluated models was able to capture real world knowledge. The Allegro model was indeed able to provide water as boiling in 100 degrees, althought presumably due to how common \"water\" and \"boiling\" are used together in Polish language. None of the models has finished the definition of gravitation, nor was any of them able to provide the maximum legal speed on polish highways. The output looks as if models have only tried to put a text that would fit visually to the rest of the sentence. \n",
    "\n",
    "**What are the most striking errors made by the models?**\n",
    "\n",
    "Niektóre ze zdań otrzymanych z modeli nie mają logicznego sensu. Przykładowo model Twittera sformułował zdanie *Karol nie zbił wody* które znaczenia jeszcze nie udało mi się odkryć. "
   ]
  }
 ],
 "metadata": {
  "kernelspec": {
   "display_name": "Python 3 (ipykernel)",
   "language": "python",
   "name": "python3"
  },
  "language_info": {
   "codemirror_mode": {
    "name": "ipython",
    "version": 3
   },
   "file_extension": ".py",
   "mimetype": "text/x-python",
   "name": "python",
   "nbconvert_exporter": "python",
   "pygments_lexer": "ipython3",
   "version": "3.8.13"
  }
 },
 "nbformat": 4,
 "nbformat_minor": 5
}
